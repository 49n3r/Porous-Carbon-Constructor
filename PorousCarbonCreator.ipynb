{
 "cells": [
  {
   "cell_type": "markdown",
   "id": "6513e972",
   "metadata": {},
   "source": [
    "**POROUS CARBON CREATOR ALGORITHM**\n",
    "\n",
    "><span style=\"color:brown\">`Associated Publication:` <br> Atomistic-to-Continuum Modeling of Carbon Foam: A New Approach to Finite Element Simulation <br>\n",
    "C. Ugwumadu, W. Downs, R. Thapa, R. Olson III, M. Ali, J. Trembly, Y. Al-Majali and D. A. Drabolda </span>\n",
    "\n",
    "\n",
    "This script creates porous carbon model with desired porosity and pore distribution, which is then optimized using molecular dynamics simulation\n",
    "\n",
    "\n",
    "**Authors Information** \n",
    "\n",
    "**Name**:: C. Ugwumadu, R. Thapa, and D. A. Drabold\n",
    "\n",
    "**Affiliation** (at the time of creation):: Ohio University, Athens Ohio, 45701, USA.\n",
    "\n",
    "**Date** (published Version):: May, 11 2024\n",
    "\n",
    "**Contact**:: ugwumaduchinonso@gmail.com\n",
    "\n",
    "><span style=\"color:red\">*This algorithm is freely distributed and can be adapted as the user sees fit, all we ask is that you cite our work.* Thank You!!!</span>"
   ]
  },
  {
   "cell_type": "markdown",
   "id": "92574c38",
   "metadata": {},
   "source": [
    "# Dependencies"
   ]
  },
  {
   "cell_type": "code",
   "execution_count": 1,
   "id": "e3c59458",
   "metadata": {
    "ExecuteTime": {
     "end_time": "2024-05-12T04:23:27.962332Z",
     "start_time": "2024-05-12T04:23:26.856523Z"
    }
   },
   "outputs": [],
   "source": [
    "import random as ran\n",
    "import numpy as np\n",
    "from scipy import stats as st\n",
    "import time\n",
    "from periodictable import H,C \n",
    "import matplotlib.pyplot as plt"
   ]
  },
  {
   "cell_type": "markdown",
   "id": "3184a176",
   "metadata": {},
   "source": [
    "# Parameter Initialization"
   ]
  },
  {
   "cell_type": "markdown",
   "id": "b0d98bc7",
   "metadata": {},
   "source": [
    "## Parameters to build model bounding box and define the density"
   ]
  },
  {
   "cell_type": "markdown",
   "id": "2a82c0a1",
   "metadata": {},
   "source": [
    "> Set the number of atoms (`num_atoms`) and the desired density (`density`), if differnt from the default in the `boxSize` function."
   ]
  },
  {
   "cell_type": "code",
   "execution_count": 2,
   "id": "37d51711",
   "metadata": {
    "ExecuteTime": {
     "end_time": "2024-05-12T04:23:27.977239Z",
     "start_time": "2024-05-12T04:23:27.963241Z"
    }
   },
   "outputs": [],
   "source": [
    "num_atoms = 2000  # Number of Carbon atoms\n",
    "density =  0.6   # Desired Density of the foam\n",
    "num_atoms_arr = np.array([num_atoms], dtype = np.int64)"
   ]
  },
  {
   "cell_type": "markdown",
   "id": "f3b04073",
   "metadata": {},
   "source": [
    "## Parameters to compute Pore distribution from pre-defined porosity\n",
    "\n",
    "As described in our paper, our method to determine the pore distribution from the pre-defined porosity $\\xi_i$ is obtained as:\n",
    "\n",
    "\\begin{equation}\n",
    "\\xi_i = \\sum_{n=1}^N \\frac{v_n}{V}\n",
    "\\end{equation}\n",
    "\n",
    "\\noindent where $N$, $\\nu_n$, and $V$ are the total number of pores, the pore volume sampled from a uniform distribution, and the bounding box volume, respectively.\n",
    "\n",
    "**Eqn. (1)** has been implemented in the `poreCreator` function below. Check and adjust the (default) parameter arguments accordingly\n"
   ]
  },
  {
   "cell_type": "code",
   "execution_count": 3,
   "id": "3240fa66",
   "metadata": {
    "ExecuteTime": {
     "end_time": "2024-05-12T04:23:27.992241Z",
     "start_time": "2024-05-12T04:23:27.979242Z"
    }
   },
   "outputs": [],
   "source": [
    "num_pores = 30\n",
    "porosity = 0.7\n",
    "max_pore_size_value = 0.5 # of the box lenght"
   ]
  },
  {
   "cell_type": "markdown",
   "id": "a526a3d9",
   "metadata": {
    "ExecuteTime": {
     "end_time": "2024-05-11T19:20:59.770958Z",
     "start_time": "2024-05-11T19:20:59.759893Z"
    }
   },
   "source": [
    "## Other parameters required for the calculations"
   ]
  },
  {
   "cell_type": "markdown",
   "id": "2b1d39b5",
   "metadata": {},
   "source": [
    "> The `cut_off` and `pore_overlap` parameters determine the atom-atom cutoff and the extent of pore overlaps in the model. \n",
    "<font color=\"red\"> Note that </font> the `pore_overlap` argument cannot be less than or equal to 0. Lower (higher) values indicate high (low) overlap of the pores."
   ]
  },
  {
   "cell_type": "code",
   "execution_count": 4,
   "id": "8e3cfbb6",
   "metadata": {
    "ExecuteTime": {
     "end_time": "2024-05-12T04:23:28.007241Z",
     "start_time": "2024-05-12T04:23:27.994238Z"
    },
    "scrolled": true
   },
   "outputs": [],
   "source": [
    "cut_off = 1.4\n",
    "pore_overlap = 0.3"
   ]
  },
  {
   "cell_type": "markdown",
   "id": "83238a0a",
   "metadata": {},
   "source": [
    "> Set the naming convention for the output files"
   ]
  },
  {
   "cell_type": "code",
   "execution_count": 5,
   "id": "84510e3c",
   "metadata": {
    "ExecuteTime": {
     "end_time": "2024-05-12T04:23:28.022238Z",
     "start_time": "2024-05-12T04:23:28.009238Z"
    }
   },
   "outputs": [],
   "source": [
    "stringDensity = str(density).replace(\".\",\"p\")+\"gcc_\"\n",
    "stringNumAtoms = str(num_atoms)+\"atoms_\"\n",
    "stringFoamOverlap = str(pore_overlap).replace(\".\",\"p\")+\"overlap\"\n",
    "stringNoFoam = str(num_pores)+\"pores_\"\n",
    "\n",
    "atoms_vasp = \"POSCAR_\"+stringNumAtoms+stringDensity+stringNoFoam+stringFoamOverlap\n",
    "pores_vasp = \"POSCAR_PORES_\"+stringNumAtoms+stringDensity+stringNoFoam+stringFoamOverlap\n",
    "atoms_and_pores_xyz = \"ovito_\"+stringNumAtoms+stringDensity+stringNoFoam+stringFoamOverlap+\".xyz\""
   ]
  },
  {
   "cell_type": "markdown",
   "id": "475f116a",
   "metadata": {},
   "source": [
    "# Functions"
   ]
  },
  {
   "cell_type": "markdown",
   "id": "557aeaeb",
   "metadata": {},
   "source": [
    "><span style = \"color:red\">We have used *keyword-only arguments* for the functions to ensure the user knows what they are doing </span> :)"
   ]
  },
  {
   "cell_type": "code",
   "execution_count": 6,
   "id": "45fbca2b",
   "metadata": {
    "ExecuteTime": {
     "end_time": "2024-05-12T04:23:28.052264Z",
     "start_time": "2024-05-12T04:23:28.024239Z"
    }
   },
   "outputs": [],
   "source": [
    "def boxSize(*,density=density):\n",
    "    '''\n",
    "    This function predicts the box size for the porous carbon model, in units of angstrom\n",
    "    '''\n",
    "\n",
    "    atom_mass_amu = np.array([C.mass])\n",
    "    atom_mass_gram = [atom*1.66054e-24 for atom in atom_mass_amu]  #Convert amu to grams (1 amu = 1.66054e-24 g)\n",
    "\n",
    "    total_mass = sum([atom_mass_gram[i]*num_atoms_arr[i] for i in range(np.size(atom_mass_gram))])\n",
    "    volume = total_mass / density\n",
    "\n",
    "    box_cm = volume**(1/3) #(cm)\n",
    "    ##convert box lenght  in cm to armstrong\n",
    "    box_arm = box_cm/1e-8\n",
    "    print(f\"The box lenght is {box_arm:.2f} \\u212B\")\n",
    "    return box_arm, volume\n",
    "\n",
    "\n",
    "def uniformPore(*, max_pore_size=max_pore_size_value):\n",
    "    '''\n",
    "    This function obtains a uniform pore distribution\n",
    "    The max_pore_size paramter can be changed to desired maximum pore size\n",
    "    '''\n",
    "    return np.random.rand() * (box*max_pore_size)\n",
    "\n",
    "\n",
    "def chiPore(*, max_pore_size = max_pore_size_value , df = 1,loc = 0, scale = .25, size=1):\n",
    "    '''\n",
    "    This function obtains a chi distributed pore distribution (https://en.wikipedia.org/wiki/Chi_distribution)\n",
    "    The default parameter aguments are set to resemble a half-Gaussian\n",
    "    The scale of .25 is set so that the maximum is around 1, to get the max allowed pore sized\n",
    "    '''\n",
    "    return st.chi.rvs(df, loc,scale,size) * (box*max_pore_size)\n",
    "\n",
    "\n",
    "def betaPore(*, max_pore_size=max_pore_size_value , a = 4, b = 4):\n",
    "    '''\n",
    "    This function obatins a beta distribution (https://en.wikipedia.org/wiki/Beta_distribution)\n",
    "    The parameters, a and b, set at 4 give a non-negative bell-shaped distribution, akin to a Gaussian Distribution\n",
    "    '''\n",
    "    return np.random.beta(4,4) * (box*max_pore_size)\n",
    "\n",
    "def poreCreator(*, porosity = porosity, num_pores=num_pores, epsilon=0.1, pore_dist_kind = 3):\n",
    "    '''\n",
    "    This function creates the pores in a desired distribution and porosity\n",
    "    \n",
    "    porosity is the desired porosity, example; 0.5\n",
    "    num_pores is the number of pores you want to sample\n",
    "    epsilon ensures that we select a distribution that is less the desired porosity. We set this to 0.1\n",
    "    pore_dist_kind specify what pore distribution is preffered example 3 (default) is the beta distribution\n",
    "    '''\n",
    "\n",
    "    poreRadii_list = []\n",
    "    poreVolume_sum = 0\n",
    "    i = 0           #iterator for our loop\n",
    "    restarts = 0    #tells how many times this function is restarted when the distribution surpases the desired porsity\n",
    "    porosity_threshold = porosity - epsilon\n",
    "\n",
    "\n",
    "    while i < num_pores:\n",
    "    \n",
    "        if poreVolume_sum <= porosity_threshold:\n",
    "            \n",
    "            if pore_dist_kind == 1:\n",
    "                name = \"Uniform Distribution\"\n",
    "                pore_radius = uniformPores()\n",
    "                \n",
    "            elif pore_dist_kind == 2:\n",
    "                name = \"Chi Distribution\"\n",
    "                pore_radius = chiPore()\n",
    "                \n",
    "            else:\n",
    "                name = \"Beta Distribution\"\n",
    "                pore_radius = betaPore()\n",
    "            \n",
    "            poreVolume_sum += pore_radius**3/box**3\n",
    "            poreRadii_list.append(pore_radius)\n",
    "            i += 1\n",
    "        \n",
    "              \n",
    "            if poreVolume_sum > porosity:\n",
    "                restarts += 1\n",
    "                print(f\"Number of restarts = {restarts}\", end = '\\r')\n",
    "                poreVolume_sum = 0\n",
    "                i = 0\n",
    "                poreRadii_list = []\n",
    "            \n",
    "            \n",
    "            # Ensure the last pore sums to the desired porosity\n",
    "            if i == num_pores-1:\n",
    "                print(f\"Sampled up to {i} pores. Current Porosity is: {poreVolume_sum:.2f}\")\n",
    "                last_poreVolume = abs((porosity - poreVolume_sum)) * box**3\n",
    "                print(f\"Added porosity fraction is {(last_poreVolume/box**3):.2f}\")\n",
    "                poreRadii_list.append(last_poreVolume**(1/3))\n",
    "                poreVolume_sum += last_poreVolume/box**3\n",
    "                print(f\"Added last pore. Final porosity is: {poreVolume_sum:.2f}\")\n",
    "                break\n",
    "            \n",
    "   \n",
    "        if poreVolume_sum > porosity_threshold:\n",
    "            restarts += 1\n",
    "            print(f\"Number of restarts = {restarts}\", end='\\r')\n",
    "            poreVolume_sum = 0\n",
    "            i = 0\n",
    "            poreRadii_list = []\n",
    "        \n",
    "    print()\n",
    "    print(f\"                 *** Pore Radii List for {len(poreRadii_list)} Pores ***\")\n",
    "    print(np.round(poreRadii_list,2))\n",
    "    \n",
    "    return name, poreRadii_list\n",
    "    "
   ]
  },
  {
   "cell_type": "markdown",
   "id": "551c9037",
   "metadata": {},
   "source": [
    "## Function Implementations"
   ]
  },
  {
   "cell_type": "code",
   "execution_count": 7,
   "id": "8d37eddd",
   "metadata": {
    "ExecuteTime": {
     "end_time": "2024-05-12T04:23:28.067239Z",
     "start_time": "2024-05-12T04:23:28.054237Z"
    }
   },
   "outputs": [
    {
     "name": "stdout",
     "output_type": "stream",
     "text": [
      "The box lenght is 40.51 Å\n",
      "Sampled up to 29 pores. Current Porosity is: 0.47\n",
      "Added porosity fraction is 0.23\n",
      "Added last pore. Final porosity is: 0.70\n",
      "\n",
      "                 *** Pore Radii List for 30 Pores ***\n",
      "[ 6.63 14.53  6.4   9.29  9.2  11.09  4.09 11.98  3.47  5.72 16.76  9.02\n",
      " 10.56 10.03  6.46  9.47  7.87  7.17  6.09  9.33  7.74 12.51  6.26 11.1\n",
      "  9.5  11.36  8.28 15.35 12.18 24.64]\n"
     ]
    }
   ],
   "source": [
    "box, volume = boxSize(density=density)\n",
    "distribution_kind, poreRadii_list = poreCreator() # obtain the pore distribution\n",
    "num_pores = len(poreRadii_list)                   # Ensure that the len of the pore distribution is same as the output"
   ]
  },
  {
   "cell_type": "markdown",
   "id": "7716a128",
   "metadata": {},
   "source": [
    "### Visualize the Pore Distribution"
   ]
  },
  {
   "cell_type": "code",
   "execution_count": 8,
   "id": "3a79f67e",
   "metadata": {
    "ExecuteTime": {
     "end_time": "2024-05-12T04:23:28.202348Z",
     "start_time": "2024-05-12T04:23:28.069238Z"
    }
   },
   "outputs": [
    {
     "data": {
      "image/png": "[encoded data removed]",
      "text/plain": [
       "<Figure size 432x288 with 1 Axes>"
      ]
     },
     "metadata": {
      "needs_background": "light"
     },
     "output_type": "display_data"
    }
   ],
   "source": [
    "plt.hist(poreRadii_list, color = \"gray\")\n",
    "plt.xlabel(\"Pore Radius\", fontsize = 14)\n",
    "plt.ylabel(distribution_kind, fontsize = 14)\n",
    "plt.show()"
   ]
  },
  {
   "cell_type": "markdown",
   "id": "719920da",
   "metadata": {},
   "source": [
    "# Main Program"
   ]
  },
  {
   "cell_type": "markdown",
   "id": "2871429d",
   "metadata": {},
   "source": [
    ">Here we use the functions and the parameters to create the model. <font color=red> Please note that </font> the algorithm may take a long time (up to days) for very large models on a low-perfomance computer. This code was designed to run in a high-performance computer, as such, not much as been considered for code optimization.\n",
    "\n",
    "At the end of running this script, 3 files will be created. \n",
    "\n",
    "1. A POSCAR (`VASP`) file containing the atoms without the pores\n",
    "2. A POSCAR file containing the pores without the atoms\n",
    "3. An extended *.xyz* file containing atoms and pores, for visualization in an atom visualizer like `OVITO`.\n",
    "\n",
    "<font color=red> Please note that </font> the sizes of the pores in the *.xyz* file has been scaled by half so that they are visually presentable."
   ]
  },
  {
   "cell_type": "code",
   "execution_count": 9,
   "id": "0bff15e5",
   "metadata": {
    "ExecuteTime": {
     "end_time": "2024-05-12T04:34:43.618608Z",
     "start_time": "2024-05-12T04:23:28.204239Z"
    }
   },
   "outputs": [
    {
     "name": "stdout",
     "output_type": "stream",
     "text": [
      "Number of pores and atoms: 2030 in 3 dimensions\n",
      "Now creating the center of the foams\n",
      "Placing center for Pore number: 30\n",
      "PORES HAVE ALL BEEN CREATED !!!\n",
      "\n",
      "Now creating coordinates for the carbon atoms (takes time, be patient or optimize the code ^^)\n",
      "Placing Atom number 2000 of 2000\n",
      "Runtime of the program is  675.3913762569427 s.\n"
     ]
    }
   ],
   "source": [
    "start = time.time()\n",
    "\n",
    "out1 = open(atoms_vasp, 'w')\n",
    "out2 = open(pores_vasp, 'w')\n",
    "\n",
    "pos = np.zeros([num_atoms+num_pores,3],float)   ## A list that takes in the position of the atoms and pores\n",
    "\n",
    "print(f\"Number of pores and atoms: {np.shape(pos)[0]} in {np.shape(pos)[1]} dimensions\")\n",
    "\n",
    "################# POSCAR header for the atoms #######################################\n",
    "print (stringNumAtoms,stringDensity,stringNoFoam,stringFoamOverlap, file = out1)\n",
    "print (\"%16.10f\"%(box),  file = out1)\n",
    "print ( \"%23.16f\"%(1.0),\"%22.16f\"%(0.0),\"%22.16f\"%(0.0),  file = out1)\n",
    "print ( \"%23.16f\"%(0.0),\"%22.16f\"%(1.0),\"%22.16f\"%(0.0), file = out1)\n",
    "print ( \"%23.16f\"%(0.0),\"%22.16f\"%(0.0),\"%22.16f\"%(1.0), file = out1)\n",
    "print ( \"   C\", file = out1)\n",
    "print ( \"   \",num_atoms, file = out1)\n",
    "print (\"Direct\", file = out1)\n",
    "####################################################################################\n",
    "\n",
    "################# POSCAR header for the pores #######################################\n",
    "print (\"PORES:\"+stringNumAtoms,stringDensity,stringNoFoam,stringFoamOverlap, file = out2)\n",
    "print (\"%16.10f\"%(box),  file = out2)\n",
    "print ( \"%23.16f\"%(1.0),\"%22.16f\"%(0.0),\"%22.16f\"%(0.0),  file = out2)\n",
    "print ( \"%23.16f\"%(0.0),\"%22.16f\"%(1.0),\"%22.16f\"%(0.0), file = out2)\n",
    "print ( \"%23.16f\"%(0.0),\"%22.16f\"%(0.0),\"%22.16f\"%(1.0), file = out2)\n",
    "print ( \"   C\", file = out2)\n",
    "print ( \"   \",num_pores, file = out2)\n",
    "print (\"Direct\", file = out2)\n",
    "####################################################################################\n",
    "\n",
    "\n",
    "ct = 0\n",
    "rnd = lambda i: i-round(i/box)*box  ## This makes rnd a function that takes i and perform i - round(i/box)*box\n",
    "vec_rnd = np.vectorize(rnd)         ## takes  a function and gives result in a callable vectorised function\n",
    "\n",
    "print (\"Now creating the center of the foams\")\n",
    "\n",
    "while ct < num_pores:\n",
    "\n",
    "    center =np.array([box*ran.random(),box*ran.random(),box*ran.random()])\n",
    "    test = 0\n",
    "    while test < ct:\n",
    "        pore_distance = center-pos[test][:]\n",
    "        pore_distance = vec_rnd(pore_distance)\n",
    "\n",
    "        if sum(map(lambda i: i*i, pore_distance)) < (pore_overlap*poreRadii_list[test])**2:\n",
    "            center =np.array([box*ran.random(),box*ran.random(),box*ran.random()])\n",
    "            test = 0\n",
    "        else:\n",
    "            \n",
    "            ### Uncomment for debugging\n",
    "            #print(f\"{sum(map(lambda i: i*i, pore_distance))} > {(pore_overlap*poreRadii_list[ct])**2}\")\n",
    "            ###################################################################################\n",
    "            \n",
    "            test +=1 \n",
    "           \n",
    "    pos[ct][:] = center[:]\n",
    "    \n",
    "    ### Print pore position to file ##############################################################\n",
    "    print (\"%20.16f\"%(center[0]/box),\"%20.16f\"%(center[1]/box),\"%20.16f\"%(center[2]/box),\n",
    "           \"%20.16f\"%(poreRadii_list[ct]) , file = out2)\n",
    "    \n",
    "    ct += 1\n",
    "    print (f\"Placing center for Pore number: {ct}\", end='\\r' )\n",
    "    \n",
    "print()\n",
    "print (\"PORES HAVE ALL BEEN CREATED !!!\")\n",
    "\n",
    "### Uncomment for debugging\n",
    "#print(pos[:num_pores])\n",
    "###########################\n",
    "\n",
    "print()\n",
    "print (\"Now creating coordinates for the carbon atoms (takes time, be patient or optimize the code ^^)\")\n",
    "\n",
    "while ct < num_atoms+num_pores:\n",
    "    atoms =[box*ran.random(),box*ran.random(),box*ran.random()]\n",
    "    test = 0\n",
    "    \n",
    "    ### Uncomment for debugging\n",
    "    #print (atoms-pos[test][:])\n",
    "    ###########################\n",
    "    \n",
    "    while test < ct:\n",
    "        atom_distance = atoms-pos[test][:]\n",
    "        atom_distance = vec_rnd(atom_distance)\n",
    "        \n",
    "        # Make sure atoms are not close to the pore center\n",
    "        if test < num_pores-1 and sum(map(lambda i: i*i, atom_distance)) < poreRadii_list[test]**2:\n",
    "            atoms =np.array([box*ran.random(),box*ran.random(),box*ran.random()])\n",
    "            \n",
    "            ### Uncomment for debugging##################\n",
    "            #print (\"OOPS!!! TOO CLOSE to a foam center\")\n",
    "            #############################################\n",
    "            test = 0 \n",
    "            \n",
    "        ### Position the atoms if atoms are not close to center    \n",
    "        elif sum(map(lambda i: i*i, atom_distance)) < cut_off**2 and test >= num_pores:\n",
    "            atoms =np.array([box*ran.random(),box*ran.random(),box*ran.random()])\n",
    "                        \n",
    "            ### Uncomment for debugging##################\n",
    "            #print (\"OOPS!!! TOO CLOSE to a foam center\")\n",
    "            #############################################\n",
    "            \n",
    "            test = 0\n",
    "        else:\n",
    "            test += 1\n",
    "            \n",
    "    pos[ct][:] = atoms\n",
    "    \n",
    "    ### Print atom position to file ##############################################################\n",
    "    print(\"%20.16f\"%(atoms[0]/box),\"%20.16f\"%(atoms[1]/box),\"%20.16f\"%(atoms[2]/box), file = out1)\n",
    "    \n",
    "    ct +=1\n",
    "    \n",
    "    print (f\"Placing Atom number {ct-num_pores} of {num_atoms}\", end='\\r') \n",
    "    \n",
    "out1.close()\n",
    "out2.close()\n",
    "end=time.time()\n",
    "\n",
    "print()\n",
    "print (\"Runtime of the program is \",end-start,\"s.\")"
   ]
  },
  {
   "cell_type": "markdown",
   "id": "f5bf6995",
   "metadata": {},
   "source": [
    "## Create model with atoms and pores in .xyz file format for visualization\n",
    "\n",
    "Now we combine the  atoms and pores in an extended *.xyz* file for visualization. \n",
    "\n",
    ">If `OVITO` is the prefered visualizer, use the `compute property` function and set the argument thus:\n",
    "<br><br> (1) **Operate on** = `Particles` <br> (2) **Output Porperty** = `Radius` <br> (3) **Expression** = `rad`\n",
    "\n",
    "<font color=red> Please note that </font> the sizes of the pores in the *.xyz* file has been scaled by half so that they are visually presentable. Also the pores have been represented as **OXYGEN**, just to easily differentiate it from the carbon atoms"
   ]
  },
  {
   "cell_type": "code",
   "execution_count": 10,
   "id": "79ce29b2",
   "metadata": {
    "ExecuteTime": {
     "end_time": "2024-05-12T04:34:43.678607Z",
     "start_time": "2024-05-12T04:34:43.621609Z"
    }
   },
   "outputs": [
    {
     "name": "stdout",
     "output_type": "stream",
     "text": [
      "************************************END OF PROGRAM************************************\n"
     ]
    }
   ],
   "source": [
    "out3 = open(atoms_and_pores_xyz,'w')\n",
    "print(len(pos),file=out3)\n",
    "print (f'Lattice=\"{box} 0.0 0.0 0.0 {box} 0.0 0.0 0.0 {box}\" Properties=type:R:1:pos:R:3:rad:R:1',file=out3)\n",
    "\n",
    "for ind in range(len(pos)):\n",
    "    \n",
    "    # The pores are represented as Oxygen atoms, just to differentiate them from the carbon atoms.\n",
    "    if ind < num_pores:\n",
    "        print (\"O\",\"  \"\"%10.6f\"%(pos[ind][0]),\"%10.6f\"%(pos[ind][1]),\"%10.6f\"%(pos[ind][2]),\\\n",
    "           \"%10.6f\"%(poreRadii_list[ind]/2),file=out3)\n",
    "    else:\n",
    "        print (\"C\",\"  \"\"%10.6f\"%(pos[ind][0]),\"%10.6f\"%(pos[ind][1]),\"%10.6f\"%(pos[ind][2]),\\\n",
    "           \"%10.6f\"%(1),file=out3)\n",
    "out3.close()\n",
    "print(\"************************************END OF PROGRAM************************************\")"
   ]
  },
  {
   "cell_type": "code",
   "execution_count": null,
   "id": "d770fda8",
   "metadata": {},
   "outputs": [],
   "source": []
  }
 ],
 "metadata": {
  "kernelspec": {
   "display_name": "Python 3 (ipykernel)",
   "language": "python",
   "name": "python3"
  },
  "language_info": {
   "codemirror_mode": {
    "name": "ipython",
    "version": 3
   },
   "file_extension": ".py",
   "mimetype": "text/x-python",
   "name": "python",
   "nbconvert_exporter": "python",
   "pygments_lexer": "ipython3",
   "version": "3.8.12"
  },
  "latex_envs": {
   "LaTeX_envs_menu_present": true,
   "autoclose": false,
   "autocomplete": true,
   "bibliofile": "biblio.bib",
   "cite_by": "apalike",
   "current_citInitial": 1,
   "eqLabelWithNumbers": true,
   "eqNumInitial": 1,
   "hotkeys": {
    "equation": "Ctrl-E",
    "itemize": "Ctrl-I"
   },
   "labels_anchors": false,
   "latex_user_defs": false,
   "report_style_numbering": false,
   "user_envs_cfg": false
  },
  "toc": {
   "base_numbering": 1,
   "nav_menu": {},
   "number_sections": true,
   "sideBar": true,
   "skip_h1_title": false,
   "title_cell": "Table of Contents",
   "title_sidebar": "Contents",
   "toc_cell": false,
   "toc_position": {},
   "toc_section_display": true,
   "toc_window_display": false
  }
 },
 "nbformat": 4,
 "nbformat_minor": 5
}
